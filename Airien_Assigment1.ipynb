{
 "cells": [
  {
   "cell_type": "markdown",
   "id": "accessory-mambo",
   "metadata": {},
   "source": [
    "# Pengisian Biodata"
   ]
  },
  {
   "cell_type": "code",
   "execution_count": 11,
   "id": "virtual-wrist",
   "metadata": {},
   "outputs": [
    {
     "name": "stdout",
     "output_type": "stream",
     "text": [
      "Masukan nama : Budi\n",
      "Masukan umur : 12\n",
      "Masukan tinggi : 145\n",
      "Nama saya Budi, umur sayas 12 tahun, dan tinggi saya 145.0cm.\n"
     ]
    }
   ],
   "source": [
    "nama = input(\"Masukan nama : \")\n",
    "umur = int(input(\"Masukan umur : \"))\n",
    "tinggi = float(input(\"Masukan tinggi : \"))\n",
    "text = \"Nama saya {}, umur sayas {} tahun, dan tinggi saya {}cm.\".format(nama, umur, tinggi)\n",
    "print(text)"
   ]
  },
  {
   "cell_type": "markdown",
   "id": "changing-bridges",
   "metadata": {},
   "source": [
    "# Menghitung Luas Lingkaran"
   ]
  },
  {
   "cell_type": "code",
   "execution_count": 24,
   "id": "traditional-diving",
   "metadata": {},
   "outputs": [
    {
     "name": "stdout",
     "output_type": "stream",
     "text": [
      "Menghitung luas lingkaran\n",
      "=========================\n",
      "Masukan jari-jari lingkaran dalam cm : 45\n",
      "Luas lingkaran adalah : 6358.5 cm²\n"
     ]
    }
   ],
   "source": [
    "print(\"Menghitung luas lingkaran\")\n",
    "print(\"=========================\")\n",
    "r=float(input('Masukan jari-jari lingkaran dalam cm : '))\n",
    "phi = 3.14\n",
    "L = phi * (r*r)\n",
    "print('Luas lingkaran adalah : '+ str(L) +' '+'cm\\u00b2')"
   ]
  },
  {
   "cell_type": "markdown",
   "id": "eastern-spank",
   "metadata": {},
   "source": [
    "# Penentuan Kelulusan"
   ]
  },
  {
   "cell_type": "code",
   "execution_count": 2,
   "id": "recorded-walter",
   "metadata": {},
   "outputs": [
    {
     "name": "stdout",
     "output_type": "stream",
     "text": [
      "Masukan nilai ujian praktek : 50\n",
      "Masukan nilai ujian teori : 90\n",
      "=======================================================\n",
      "Anda harus mengulang ujian praktek\n"
     ]
    }
   ],
   "source": [
    "nilai_praktek = int(input(\"Masukan nilai ujian praktek : \"))\n",
    "nilai_teori = int(input(\"Masukan nilai ujian teori : \"))\n",
    "minimum = 70\n",
    "\n",
    "print(\"=======================================================\")\n",
    "\n",
    "if nilai_praktek >= minimum and nilai_teori >= minimum :\n",
    "    print(\"Selamat anda lulus\")\n",
    "elif nilai_praktek <= minimum and nilai_teori > minimum :\n",
    "    print(\"Anda harus mengulang ujian praktek\")\n",
    "elif nilai_praktek > minimum and nilai_teori <= minimum :\n",
    "    print(\"Anda harus mengulang ujian teori\")\n",
    "elif nilai_praktek < minimum and nilai_teori < minimum :\n",
    "    print(\"Anda harus mengulang ujian praktek dan teori\")"
   ]
  }
 ],
 "metadata": {
  "kernelspec": {
   "display_name": "Python 3",
   "language": "python",
   "name": "python3"
  },
  "language_info": {
   "codemirror_mode": {
    "name": "ipython",
    "version": 3
   },
   "file_extension": ".py",
   "mimetype": "text/x-python",
   "name": "python",
   "nbconvert_exporter": "python",
   "pygments_lexer": "ipython3",
   "version": "3.8.5"
  }
 },
 "nbformat": 4,
 "nbformat_minor": 5
}
